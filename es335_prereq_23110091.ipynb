{
 "cells": [
  {
   "cell_type": "markdown",
   "metadata": {},
   "source": [
    "# Prerequsite test ES 335 Machine Learning (August 2024)\n",
    "Devansh Lodha\n",
    "23110091"
   ]
  },
  {
   "cell_type": "markdown",
   "metadata": {},
   "source": [
    "## Problem 1\n",
    "**How many multiplications and additions do you need to perform a matrix multiplication between a (n, k) and (k, m) matrix? Explain.**"
   ]
  },
  {
   "cell_type": "markdown",
   "metadata": {},
   "source": [
    "We have two matrices: \n",
    "$$\n",
    "A_{n,k} = \n",
    "\\begin{bmatrix}\n",
    "a_{1,1} & a_{1,2} & \\cdots & a_{1,k} \\\\\n",
    "a_{2,1} & a_{2,2} & \\cdots & a_{2,k} \\\\\n",
    "\\vdots  & \\vdots  & \\ddots & \\vdots  \\\\\n",
    "a_{n,1} & a_{n,2} & \\cdots & a_{n,k} \n",
    "\\end{bmatrix},\n",
    "B_{k,m} = \n",
    "\\begin{bmatrix}\n",
    "b_{1,1} & b_{1,2} & \\cdots & b_{1,m} \\\\\n",
    "b_{2,1} & b_{2,2} & \\cdots & b_{2,m} \\\\\n",
    "\\vdots  & \\vdots  & \\ddots & \\vdots  \\\\\n",
    "b_{k,1} & b_{k,2} & \\cdots & b_{k,m} \n",
    "\\end{bmatrix}\n",
    "$$\n",
    "The resultant matrix upon matrix multiplication of $A$ and $B$ is:\n",
    "$$\n",
    "C_{n,m} = \n",
    "\\begin{bmatrix}\n",
    "c_{1,1} & c_{1,2} & \\cdots & c_{1,m} \\\\\n",
    "c_{2,1} & c_{2,2} & \\cdots & c_{2,m} \\\\\n",
    "\\vdots  & \\vdots  & \\ddots & \\vdots  \\\\\n",
    "c_{n,1} & c_{n,2} & \\cdots & c_{n,m} \n",
    "\\end{bmatrix}\n",
    "$$\n",
    "where each element $c_{i,j}$ is:\n",
    "$$c_{i,j} = \\sum_{l=1}^{k} a_{i,l}\\cdot b_{l,j}$$\n",
    "For every $c_{i,j}$ we need to perform $k$ multiplications and $k-1$ additions.\n",
    "Thus we need to perform $knm$ multiplications and $(k-1)nm$ additions for matrix multiplication between $A$ and $B$."
   ]
  },
  {
   "cell_type": "markdown",
   "metadata": {},
   "source": [
    "## Problem 2\n",
    "**Write Python code to multiply the above two matrices. Solve using list of lists and then use numpy. Compare the timing of both solutions. Which one is faster? Why?**"
   ]
  },
  {
   "cell_type": "code",
   "execution_count": 1,
   "metadata": {},
   "outputs": [],
   "source": [
    "def matmul(A, B):\n",
    "    \"\"\"\n",
    "    Performs matrix multiplication of two list of lists\n",
    "\n",
    "    Args:\n",
    "        A: List of lists representing first matrix\n",
    "        B: List of lists representing second matrix\n",
    "    \n",
    "    Returns:\n",
    "        List of lists representing product of the two matrices.\n",
    "    \"\"\"\n",
    "\n",
    "    n, k, m = len(A), len(B), len(B[0])\n",
    "\n",
    "    C = [[0]*m]*n\n",
    "\n",
    "    for i in range(n):\n",
    "        for j in range(m):\n",
    "            for l in range(k):\n",
    "                C[i][j] += A[i][l]*B[l][j]\n",
    "    \n",
    "    return C"
   ]
  },
  {
   "cell_type": "code",
   "execution_count": 2,
   "metadata": {},
   "outputs": [],
   "source": [
    "# setting up timing functions\n",
    "from timeit import default_timer as timer\n",
    "def print_time(start:float,\n",
    "                     end: float,\n",
    "                     method: str):\n",
    "    total_time = end - start\n",
    "    print(f\"{method}: {total_time} seconds\")"
   ]
  },
  {
   "cell_type": "code",
   "execution_count": 3,
   "metadata": {},
   "outputs": [
    {
     "name": "stdout",
     "output_type": "stream",
     "text": [
      "[[1200, 1320, 1440, 1560], [1200, 1320, 1440, 1560], [1200, 1320, 1440, 1560]]\n",
      "matrix multiplication without numpy: 4.600000102072954e-05 seconds\n"
     ]
    }
   ],
   "source": [
    "# Example matrices\n",
    "A = [[1, 2, 3, 4, 5],\n",
    "     [6, 7, 8, 9, 10],\n",
    "     [11, 12, 13, 14, 15]]\n",
    "B = [[1, 2, 3, 4],\n",
    "     [5, 6, 7, 8],\n",
    "     [9, 10, 11, 12],\n",
    "     [13, 14, 15, 16],\n",
    "     [17, 18, 19, 20]]\n",
    "\n",
    "# performing matrix multplication without numpy\n",
    "start_time_without_numpy = timer()\n",
    "print(matmul(A, B))\n",
    "end_time_without_numpy = timer()\n",
    "print_time(start=start_time_without_numpy,\n",
    "                  end = end_time_without_numpy,\n",
    "                  method = \"matrix multiplication without numpy\")"
   ]
  },
  {
   "cell_type": "code",
   "execution_count": 4,
   "metadata": {},
   "outputs": [
    {
     "name": "stdout",
     "output_type": "stream",
     "text": [
      "[[175 190 205 220]\n",
      " [400 440 480 520]\n",
      " [625 690 755 820]]\n",
      "matrix multiplication with numpy: 0.0007142090471461415 seconds\n"
     ]
    }
   ],
   "source": [
    "# performing matrix multplication with numpy\n",
    "import numpy as np\n",
    "A = np.array(A)\n",
    "B = np.array(B)\n",
    "start_time_with_numpy = timer()\n",
    "print(np.matmul(A, B))\n",
    "end_time_with_numpy = timer()\n",
    "print_time(start=start_time_with_numpy,\n",
    "                  end = end_time_with_numpy,\n",
    "                  method = \"matrix multiplication with numpy\")"
   ]
  },
  {
   "cell_type": "markdown",
   "metadata": {},
   "source": [
    "Clearly using numpy is faster. This is because numpy's operations are optimized since numpy arrays are homogenous and have low level implementations."
   ]
  },
  {
   "cell_type": "markdown",
   "metadata": {},
   "source": [
    "## Problem 3\n",
    "**Finding the highest element in a list requires one pass of the array. Finding the second highest element requires 2 passes of the the array. Using this method, what is the time complexity of finding the median of the array? Can you suggest a better method? Can you implement both these methods in Python and compare against `numpy.median` routine in terms of time?**"
   ]
  },
  {
   "cell_type": "markdown",
   "metadata": {},
   "source": [
    "Median for an array with $n$ elements where $n$ is odd is the $\\frac{n}{2}^{th}$ largest element and when $n$ is even, its the mean of the $\\frac{n}{2}^{th}$ and $(\\frac{n}{2}-1)^{th}$ largest element.\n",
    "Finding the highest element in an array requires one pass of the array. Finding the second highest element requires 2 passes of the array. By this approach finding the median implies an $\\mathcal{O}(n^2)$ time complexity. "
   ]
  },
  {
   "cell_type": "markdown",
   "metadata": {},
   "source": [
    "We can code this out in Python as follows:"
   ]
  },
  {
   "cell_type": "code",
   "execution_count": 5,
   "metadata": {},
   "outputs": [],
   "source": [
    "def median_n_square(arr):\n",
    "  n = len(arr)\n",
    "  for i in range(n - 1, n//2 - 2, -1):\n",
    "      max_idx = i\n",
    "      for j in range(i):\n",
    "          if arr[j] > arr[max_idx]:\n",
    "              max_idx = j\n",
    "\n",
    "      arr[max_idx], arr[i] = arr[i], arr[max_idx]\n",
    "\n",
    "  if n % 2 == 1:\n",
    "    print(arr[n//2])\n",
    "  else:\n",
    "    print((arr[n//2] + arr[n//2 - 1])/2)"
   ]
  },
  {
   "cell_type": "markdown",
   "metadata": {},
   "source": [
    "A better method would be to directly sort the array in $\\mathcal{O}(n\\log(n))$ time."
   ]
  },
  {
   "cell_type": "code",
   "execution_count": 6,
   "metadata": {},
   "outputs": [],
   "source": [
    "def median_n_log_n(arr):\n",
    "  n = len(arr)\n",
    "  arr = sorted(arr)\n",
    "  if (n % 2 == 1):\n",
    "    print(arr[n//2])\n",
    "  else:\n",
    "    print((arr[n//2] + arr[n//2 - 1])/2)"
   ]
  },
  {
   "cell_type": "code",
   "execution_count": 7,
   "metadata": {},
   "outputs": [
    {
     "name": "stdout",
     "output_type": "stream",
     "text": [
      "[6, 7, 8, 1, 5, 9, 13, 14, 10, 2, 3, 4, 11, 12, 15]\n",
      "[1, 2, 3, 4, 5, 6, 7, 8, 9, 10, 11, 12, 13, 14, 15]\n"
     ]
    }
   ],
   "source": [
    "A = [6, 7, 8, 1, 5, 9, 13, 14, 10, 2, 3, 4, 11, 12, 15]\n",
    "print(A)\n",
    "print(sorted(A))"
   ]
  },
  {
   "cell_type": "markdown",
   "metadata": {},
   "source": [
    "comparing time"
   ]
  },
  {
   "cell_type": "code",
   "execution_count": 8,
   "metadata": {},
   "outputs": [
    {
     "name": "stdout",
     "output_type": "stream",
     "text": [
      "8\n",
      "Median using O(n^2) algorithm: 7.399998139590025e-05 seconds\n"
     ]
    }
   ],
   "source": [
    "start_time_n_square_without_numpy = timer()\n",
    "median_n_square(A)\n",
    "end_time_n_square_without_numpy = timer()\n",
    "print_time(start=start_time_n_square_without_numpy,\n",
    "           end = end_time_n_square_without_numpy,\n",
    "           method=\"Median using O(n^2) algorithm\")"
   ]
  },
  {
   "cell_type": "code",
   "execution_count": 9,
   "metadata": {},
   "outputs": [
    {
     "name": "stdout",
     "output_type": "stream",
     "text": [
      "8\n",
      "Median using O(nlog(n)) algorithm: 7.26659782230854e-05 seconds\n"
     ]
    }
   ],
   "source": [
    "start_time_n_log_n_without_numpy = timer()\n",
    "median_n_log_n(A)\n",
    "end_time_n_log_n_without_numpy = timer()\n",
    "print_time(start=start_time_n_log_n_without_numpy,\n",
    "           end = end_time_n_log_n_without_numpy,\n",
    "           method=\"Median using O(nlog(n)) algorithm\")"
   ]
  },
  {
   "cell_type": "code",
   "execution_count": 10,
   "metadata": {},
   "outputs": [
    {
     "name": "stdout",
     "output_type": "stream",
     "text": [
      "8.0\n",
      "Median using numpy: 0.00026241689920425415 seconds\n"
     ]
    }
   ],
   "source": [
    "start_time_with_numpy = timer()\n",
    "print(np.median(A))\n",
    "end_time_with_numpy = timer()\n",
    "print_time(start=start_time_with_numpy,\n",
    "           end = end_time_with_numpy,\n",
    "           method=\"Median using numpy\")"
   ]
  },
  {
   "cell_type": "markdown",
   "metadata": {},
   "source": [
    "## Problem 4\n",
    "**What is the gradient of the following function with respect to x and y?**\n",
    "$$x^2y+y^3sin(x)$$"
   ]
  },
  {
   "cell_type": "markdown",
   "metadata": {},
   "source": [
    "Let $f(x,y) = x^2y+y^3sin(x)$\n",
    "$$\\nabla f = \n",
    "\\begin{bmatrix}\n",
    "\\frac{\\partial f}{\\partial x} \\\\\n",
    "\\frac{\\partial f}{\\partial y} \n",
    "\\end{bmatrix}\n",
    "=\\begin{bmatrix}\n",
    "2xy+y^3cos(x) \\\\\n",
    "x^2 + 3y^2sin(x)\n",
    "\\end{bmatrix}$$"
   ]
  },
  {
   "cell_type": "markdown",
   "metadata": {},
   "source": [
    "## Problem 5\n",
    "**Use `JAX` to confirm the gradient evaluated by your method matches the analytical solution corresponding to a few random values of x and y.**"
   ]
  },
  {
   "cell_type": "code",
   "execution_count": 11,
   "metadata": {},
   "outputs": [],
   "source": [
    "import jax\n",
    "import jax.numpy as jnp\n",
    "from jax import jit\n",
    "import random\n",
    "\n",
    "def my_gradient(x, y):\n",
    "    return 2*x*y + y**3*jnp.cos(x), x**2 + 3*y**2*jnp.sin(x)\n",
    "\n",
    "def f(x,y):\n",
    "    return x**2*y + y**3*jnp.sin(x)"
   ]
  },
  {
   "cell_type": "code",
   "execution_count": 12,
   "metadata": {},
   "outputs": [],
   "source": [
    "pairs = []\n",
    "for _ in range(10):\n",
    "    x = random.random()\n",
    "    y = random.random()\n",
    "    pairs.append((x, y))"
   ]
  },
  {
   "cell_type": "code",
   "execution_count": 13,
   "metadata": {},
   "outputs": [],
   "source": [
    "my_gradient = jit(my_gradient)\n",
    "j_gradient = jit(jax.grad(f, argnums=(0,1)))"
   ]
  },
  {
   "cell_type": "code",
   "execution_count": 14,
   "metadata": {},
   "outputs": [
    {
     "name": "stderr",
     "output_type": "stream",
     "text": [
      "Platform 'METAL' is experimental and not all JAX functionality may be correctly supported!\n"
     ]
    },
    {
     "name": "stdout",
     "output_type": "stream",
     "text": [
      "Metal device set to: Apple M3 Max\n",
      "\n",
      "systemMemory: 36.00 GB\n",
      "maxCacheSize: 13.50 GB\n",
      "\n",
      "(Array(1.2038269, dtype=float32, weak_type=True), Array(1.0225277, dtype=float32, weak_type=True)) : match!\n",
      "(Array(0.5261933, dtype=float32, weak_type=True), Array(0.15872765, dtype=float32, weak_type=True)) : match!\n",
      "(Array(0.5471258, dtype=float32, weak_type=True), Array(0.74722475, dtype=float32, weak_type=True)) : match!\n",
      "(Array(0.9689295, dtype=float32, weak_type=True), Array(1.4997482, dtype=float32, weak_type=True)) : match!\n",
      "(Array(1.03113, dtype=float32, weak_type=True), Array(0.98250437, dtype=float32, weak_type=True)) : match!\n",
      "(Array(2.4633555, dtype=float32, weak_type=True), Array(3.3462381, dtype=float32, weak_type=True)) : match!\n",
      "(Array(0.5940649, dtype=float32, weak_type=True), Array(0.504322, dtype=float32, weak_type=True)) : match!\n",
      "(Array(0.76360536, dtype=float32, weak_type=True), Array(1.3376769, dtype=float32, weak_type=True)) : match!\n",
      "(Array(0.76864475, dtype=float32, weak_type=True), Array(0.92032486, dtype=float32, weak_type=True)) : match!\n",
      "(Array(0.3168424, dtype=float32, weak_type=True), Array(0.11741094, dtype=float32, weak_type=True)) : match!\n"
     ]
    },
    {
     "name": "stderr",
     "output_type": "stream",
     "text": [
      "WARNING: All log messages before absl::InitializeLog() is called are written to STDERR\n",
      "W0000 00:00:1722952738.917225 13220881 mps_client.cc:510] WARNING: JAX Apple GPU support is experimental and not all JAX functionality is correctly supported!\n",
      "I0000 00:00:1722952738.926825 13220881 service.cc:145] XLA service 0x137e12a90 initialized for platform METAL (this does not guarantee that XLA will be used). Devices:\n",
      "I0000 00:00:1722952738.926838 13220881 service.cc:153]   StreamExecutor device (0): Metal, <undefined>\n",
      "I0000 00:00:1722952738.929177 13220881 mps_client.cc:406] Using Simple allocator.\n",
      "I0000 00:00:1722952738.929188 13220881 mps_client.cc:384] XLA backend will use up to 28989243392 bytes on device 0 for SimpleAllocator.\n"
     ]
    }
   ],
   "source": [
    "for x,y in pairs:\n",
    "    ans = my_gradient(x,y)\n",
    "    if my_gradient(x,y) == j_gradient(x,y):\n",
    "        print(ans, \": match!\")"
   ]
  },
  {
   "cell_type": "markdown",
   "metadata": {},
   "source": [
    "## Problem 6\n",
    "**Use `sympy` to confirm that you obtain the same gradient analytically.**"
   ]
  },
  {
   "cell_type": "code",
   "execution_count": 15,
   "metadata": {},
   "outputs": [
    {
     "data": {
      "text/plain": [
       "'1.13.1'"
      ]
     },
     "execution_count": 15,
     "metadata": {},
     "output_type": "execute_result"
    }
   ],
   "source": [
    "import sympy as smp\n",
    "smp.__version__"
   ]
  },
  {
   "cell_type": "code",
   "execution_count": 16,
   "metadata": {},
   "outputs": [
    {
     "data": {
      "text/latex": [
       "$\\displaystyle 2 x y + y^{3} \\cos{\\left(x \\right)}$"
      ],
      "text/plain": [
       "2*x*y + y**3*cos(x)"
      ]
     },
     "metadata": {},
     "output_type": "display_data"
    },
    {
     "data": {
      "text/latex": [
       "$\\displaystyle x^{2} + 3 y^{2} \\sin{\\left(x \\right)}$"
      ],
      "text/plain": [
       "x**2 + 3*y**2*sin(x)"
      ]
     },
     "metadata": {},
     "output_type": "display_data"
    }
   ],
   "source": [
    "x = smp.symbols(\"x\")\n",
    "y = smp.symbols(\"y\")\n",
    "f = x**2 * y + y**3 * smp.sin(x)\n",
    "dfdx, dfdy = smp.diff(f, x), smp.diff(f, y)\n",
    "display(dfdx)\n",
    "display(dfdy)"
   ]
  },
  {
   "cell_type": "markdown",
   "metadata": {},
   "source": [
    "## Problem 7\n",
    "**Create a Python nested dictionary to represent hierarchical information. We want to store record of students and their marks. Something like:**\n",
    "1. 2022\n",
    "    1. Branch 1\n",
    "        1. Roll Number: 1, Name: N, Marks:\n",
    "            1. Maths: 100, English: 70...\n",
    "    2. Branch 2\n",
    "2. 2023\n",
    "    1. Branch 1\n",
    "    2. Branch 2\n",
    "2. 2024\n",
    "    1. Branch 1\n",
    "    2. Branch 2\n",
    "2. 2025\n",
    "    1. Branch 1\n",
    "    2. Branch 2"
   ]
  },
  {
   "cell_type": "code",
   "execution_count": 17,
   "metadata": {},
   "outputs": [],
   "source": [
    "nested_hierarchy = {\n",
    "    2022: {\n",
    "        \"Branch 1\": {\n",
    "            1: {\n",
    "                \"Roll Number\": 1,\n",
    "                \"Name\": \"N\",\n",
    "                \"Marks\": {\n",
    "                    \"Maths\": 100,\n",
    "                    \"English\": 70\n",
    "                }\n",
    "            }\n",
    "        },\n",
    "        \"Branch 2\": {\n",
    "\n",
    "        }\n",
    "    },\n",
    "    2023: {\n",
    "        \"Branch 1\": {\n",
    "\n",
    "        },\n",
    "        \"Branch 2\": {\n",
    "\n",
    "        }\n",
    "    },\n",
    "    2024: {\n",
    "        \"Branch 1\": {\n",
    "\n",
    "        },\n",
    "        \"Branch 2\": {\n",
    "            \n",
    "        }\n",
    "    },\n",
    "    2025: {\n",
    "        \"Branch 1\": {\n",
    "\n",
    "        },\n",
    "        \"Branch 2\": {\n",
    "            \n",
    "        }\n",
    "    }\n",
    "}"
   ]
  },
  {
   "cell_type": "markdown",
   "metadata": {},
   "source": [
    "## Problem 8\n",
    "**Store the same information using Python classes. We have an overall database which is a list of year objects. Each year contains a list of branches. Each branch contains a list of students. Each student has some properties like name, roll number and has marks in some subjects.**"
   ]
  },
  {
   "cell_type": "markdown",
   "metadata": {},
   "source": [
    "Lets first create a student class. A student can have properties like name and roll number which can be assigned during the creation of the student instance. Now, in a real life database, the students would recieve marks at some point after the creation of the student instance (ie: after them regstering for the branch). So we can create a method to add marks for a particular subject to a particular student instance."
   ]
  },
  {
   "cell_type": "code",
   "execution_count": 18,
   "metadata": {},
   "outputs": [],
   "source": [
    "class Student:\n",
    "    def __init__(self, name, roll_number):\n",
    "        self.name = name\n",
    "        self.roll_number = roll_number\n",
    "        self.marks = {}\n",
    "\n",
    "    def add_marks(self, subject, marks):\n",
    "        self.marks[subject] = marks"
   ]
  },
  {
   "cell_type": "markdown",
   "metadata": {},
   "source": [
    "Now lets move on to creating a class for the branch. Each branch will have a number assigned during creation of a branch instance. We need functionality to add students to the branch for which we can create a method."
   ]
  },
  {
   "cell_type": "code",
   "execution_count": 19,
   "metadata": {},
   "outputs": [],
   "source": [
    "class Branch:\n",
    "    def __init__(self, branch_number):\n",
    "        self.branch_number = branch_number\n",
    "        self.students = []\n",
    "    def add_student(self, student):\n",
    "        self.students.append(student)"
   ]
  },
  {
   "cell_type": "markdown",
   "metadata": {},
   "source": [
    "Finally lets create a Year class. It will need a method to add branches to that year. We must also include a method to print the structure of our database."
   ]
  },
  {
   "cell_type": "code",
   "execution_count": 20,
   "metadata": {},
   "outputs": [],
   "source": [
    "class Year:\n",
    "    def __init__(self, year):\n",
    "        self.year = year\n",
    "        self.branches = []\n",
    "\n",
    "    def add_branch(self, branch):\n",
    "        self.branches.append(branch)\n",
    "    \n",
    "    def data(self):\n",
    "        print(f\"Year: {self.year}\")\n",
    "        for branch in self.branches:\n",
    "            print(f\"\\tBranch {branch.branch_number}\")\n",
    "            for student in branch.students:\n",
    "                print(f\"\\t\\tRoll Number: {student.roll_number}, Name: {student.name}\")\n",
    "                print(f\"\\t\\t\\tMarks\")\n",
    "                for subject in student.marks:\n",
    "                    print(f\"\\t\\t\\t{subject}: {student.marks[subject]}\")"
   ]
  },
  {
   "cell_type": "code",
   "execution_count": 21,
   "metadata": {},
   "outputs": [
    {
     "name": "stdout",
     "output_type": "stream",
     "text": [
      "Year: 2023\n",
      "\tBranch 1\n",
      "\t\tRoll Number: 1, Name: A\n",
      "\t\t\tMarks\n",
      "\t\t\tLinear Algebra: 88\n",
      "\t\t\tMultivariable Calculus: 95\n",
      "\tBranch 2\n",
      "\t\tRoll Number: 2, Name: B\n",
      "\t\t\tMarks\n",
      "\t\t\tProbability and Statistics: 88\n",
      "\t\t\tMachine Learning: 93\n"
     ]
    }
   ],
   "source": [
    "# initialize year 2023\n",
    "year_2023 = Year(2023)\n",
    "\n",
    "# initialize branches 1 and 2 for year 2023\n",
    "branch1_2023 = Branch(1)\n",
    "branch2_2023 = Branch(2)\n",
    "year_2023.add_branch(branch1_2023)\n",
    "year_2023.add_branch(branch2_2023)\n",
    "\n",
    "# register 2 students for year 2023\n",
    "student1_2023 = Student(\"A\", 1)\n",
    "student2_2023 = Student(\"B\", 2)\n",
    "\n",
    "# add them to their respective branches\n",
    "branch1_2023.add_student(student1_2023)\n",
    "branch2_2023.add_student(student2_2023)\n",
    "\n",
    "# add their marks for some subjects\n",
    "student1_2023.add_marks(\"Linear Algebra\", 88)\n",
    "student1_2023.add_marks(\"Multivariable Calculus\", 95)\n",
    "student2_2023.add_marks(\"Probability and Statistics\", 88)\n",
    "student2_2023.add_marks(\"Machine Learning\", 93)\n",
    "\n",
    "year_2023.data()"
   ]
  },
  {
   "cell_type": "markdown",
   "metadata": {},
   "source": [
    "## Problem 9\n",
    "**Using matplotlib plot the following functions on the domain: x = 0.5 to 100.0 in steps of 0.5.**\n",
    "1. $y=x$\n",
    "2. $y=x^2$\n",
    "3. $y=\\frac{x^3}{100}$\n",
    "4. $y=\\sin(x)$\n",
    "5. $y=\\frac{\\sin(x)}{x}$\n",
    "6. $y=\\log(x)$\n",
    "7. $y=e^x$"
   ]
  },
  {
   "cell_type": "code",
   "execution_count": 22,
   "metadata": {},
   "outputs": [
    {
     "data": {
      "image/png": "[encoded data removed]",
      "text/plain": [
       "<Figure size 1600x800 with 8 Axes>"
      ]
     },
     "metadata": {},
     "output_type": "display_data"
    }
   ],
   "source": [
    "import matplotlib.pyplot as plt\n",
    "\n",
    "x = np.arange(0.5, 100, 0.5)\n",
    "functions = np.array([x, x**2, x**3/100, np.sin(x), np.sin(x)/x, np.log(x), np.exp(x)])\n",
    "titles = np.array([r\"$y = x$\", r\"$y = x^2$\", r\"$y = \\frac{x^3}{100}$\", r\"$y = \\sin{(x)}$\", r\"$y = \\frac{\\sin{(x)}}{x}$\", r\"$y = \\log{(x)}$\", r\"$y = e^x$\"])\n",
    "\n",
    "fig, axs = plt.subplots(2, 4, figsize=(16,8))\n",
    "curr = 0\n",
    "for i in range(2):\n",
    "    for j in range(4):\n",
    "        if curr == 7:\n",
    "            axs[i, j].text(0.1, 0.5, \"Nothing to see here!\", fontsize = 16)\n",
    "            break\n",
    "        axs[i, j].plot(x, functions[curr])\n",
    "        axs[i, j].set_title(titles[curr])\n",
    "        axs[i, j].set(xlabel = \"x\", ylabel = \"y\")\n",
    "        axs[i, j].label_outer()\n",
    "        curr+=1"
   ]
  },
  {
   "cell_type": "markdown",
   "metadata": {},
   "source": [
    "## Problem 10\n",
    "**Using numpy generate a matrix of size 20X5 containing random numbers drawn uniformly from the range of 1 to 2. Using Pandas create a dataframe out of this matrix. Name the columns of the dataframe as “a”, “b”, “c”, “d”, “e”. Find the column with the highest standard deviation. Find the row with the lowest mean.**"
   ]
  },
  {
   "cell_type": "code",
   "execution_count": 23,
   "metadata": {},
   "outputs": [
    {
     "data": {
      "text/plain": [
       "array([[1.64295609, 1.39463592, 1.04232224, 1.56213983, 1.63279073],\n",
       "       [1.18657478, 1.04124403, 1.66880097, 1.64797252, 1.95250996],\n",
       "       [1.05902766, 1.60803884, 1.03459332, 1.09121947, 1.92683232],\n",
       "       [1.62959554, 1.81431402, 1.21364845, 1.02815031, 1.97222969],\n",
       "       [1.03515621, 1.45200671, 1.83816539, 1.92863162, 1.92193294],\n",
       "       [1.61319486, 1.37876078, 1.92203622, 1.18421607, 1.17082706],\n",
       "       [1.03104123, 1.50725035, 1.86572488, 1.14199523, 1.52608286],\n",
       "       [1.64599571, 1.27844219, 1.98136178, 1.85477753, 1.21496627],\n",
       "       [1.57277136, 1.9940196 , 1.34203738, 1.8581575 , 1.18821587],\n",
       "       [1.95499437, 1.25124765, 1.36734136, 1.84489258, 1.40734897],\n",
       "       [1.69443573, 1.74618461, 1.54347748, 1.76931948, 1.46457077],\n",
       "       [1.93582442, 1.28358602, 1.80707092, 1.59314293, 1.31700369],\n",
       "       [1.33919795, 1.90771432, 1.33919317, 1.5468178 , 1.04630844],\n",
       "       [1.03195563, 1.91151808, 1.96639209, 1.04668613, 1.73000928],\n",
       "       [1.01352025, 1.94107274, 1.0389127 , 1.18924647, 1.45049968],\n",
       "       [1.24976845, 1.80830977, 1.95346704, 1.97058577, 1.69158384],\n",
       "       [1.37198999, 1.12926429, 1.73952785, 1.66544473, 1.07909782],\n",
       "       [1.09370634, 1.46329542, 1.44091677, 1.61152281, 1.28272491],\n",
       "       [1.93945909, 1.42756268, 1.12082844, 1.27626008, 1.43225746],\n",
       "       [1.56316396, 1.44493092, 1.62919929, 1.48461921, 1.90019359]])"
      ]
     },
     "execution_count": 23,
     "metadata": {},
     "output_type": "execute_result"
    }
   ],
   "source": [
    "import pandas as pd\n",
    "\n",
    "random_matrix = np.random.rand(20,5)+1\n",
    "random_matrix"
   ]
  },
  {
   "cell_type": "code",
   "execution_count": 24,
   "metadata": {},
   "outputs": [
    {
     "data": {
      "text/html": [
       "<div>\n",
       "<style scoped>\n",
       "    .dataframe tbody tr th:only-of-type {\n",
       "        vertical-align: middle;\n",
       "    }\n",
       "\n",
       "    .dataframe tbody tr th {\n",
       "        vertical-align: top;\n",
       "    }\n",
       "\n",
       "    .dataframe thead th {\n",
       "        text-align: right;\n",
       "    }\n",
       "</style>\n",
       "<table border=\"1\" class=\"dataframe\">\n",
       "  <thead>\n",
       "    <tr style=\"text-align: right;\">\n",
       "      <th></th>\n",
       "      <th>a</th>\n",
       "      <th>b</th>\n",
       "      <th>c</th>\n",
       "      <th>d</th>\n",
       "      <th>e</th>\n",
       "    </tr>\n",
       "  </thead>\n",
       "  <tbody>\n",
       "    <tr>\n",
       "      <th>0</th>\n",
       "      <td>1.642956</td>\n",
       "      <td>1.394636</td>\n",
       "      <td>1.042322</td>\n",
       "      <td>1.562140</td>\n",
       "      <td>1.632791</td>\n",
       "    </tr>\n",
       "    <tr>\n",
       "      <th>1</th>\n",
       "      <td>1.186575</td>\n",
       "      <td>1.041244</td>\n",
       "      <td>1.668801</td>\n",
       "      <td>1.647973</td>\n",
       "      <td>1.952510</td>\n",
       "    </tr>\n",
       "    <tr>\n",
       "      <th>2</th>\n",
       "      <td>1.059028</td>\n",
       "      <td>1.608039</td>\n",
       "      <td>1.034593</td>\n",
       "      <td>1.091219</td>\n",
       "      <td>1.926832</td>\n",
       "    </tr>\n",
       "    <tr>\n",
       "      <th>3</th>\n",
       "      <td>1.629596</td>\n",
       "      <td>1.814314</td>\n",
       "      <td>1.213648</td>\n",
       "      <td>1.028150</td>\n",
       "      <td>1.972230</td>\n",
       "    </tr>\n",
       "    <tr>\n",
       "      <th>4</th>\n",
       "      <td>1.035156</td>\n",
       "      <td>1.452007</td>\n",
       "      <td>1.838165</td>\n",
       "      <td>1.928632</td>\n",
       "      <td>1.921933</td>\n",
       "    </tr>\n",
       "    <tr>\n",
       "      <th>5</th>\n",
       "      <td>1.613195</td>\n",
       "      <td>1.378761</td>\n",
       "      <td>1.922036</td>\n",
       "      <td>1.184216</td>\n",
       "      <td>1.170827</td>\n",
       "    </tr>\n",
       "    <tr>\n",
       "      <th>6</th>\n",
       "      <td>1.031041</td>\n",
       "      <td>1.507250</td>\n",
       "      <td>1.865725</td>\n",
       "      <td>1.141995</td>\n",
       "      <td>1.526083</td>\n",
       "    </tr>\n",
       "    <tr>\n",
       "      <th>7</th>\n",
       "      <td>1.645996</td>\n",
       "      <td>1.278442</td>\n",
       "      <td>1.981362</td>\n",
       "      <td>1.854778</td>\n",
       "      <td>1.214966</td>\n",
       "    </tr>\n",
       "    <tr>\n",
       "      <th>8</th>\n",
       "      <td>1.572771</td>\n",
       "      <td>1.994020</td>\n",
       "      <td>1.342037</td>\n",
       "      <td>1.858157</td>\n",
       "      <td>1.188216</td>\n",
       "    </tr>\n",
       "    <tr>\n",
       "      <th>9</th>\n",
       "      <td>1.954994</td>\n",
       "      <td>1.251248</td>\n",
       "      <td>1.367341</td>\n",
       "      <td>1.844893</td>\n",
       "      <td>1.407349</td>\n",
       "    </tr>\n",
       "    <tr>\n",
       "      <th>10</th>\n",
       "      <td>1.694436</td>\n",
       "      <td>1.746185</td>\n",
       "      <td>1.543477</td>\n",
       "      <td>1.769319</td>\n",
       "      <td>1.464571</td>\n",
       "    </tr>\n",
       "    <tr>\n",
       "      <th>11</th>\n",
       "      <td>1.935824</td>\n",
       "      <td>1.283586</td>\n",
       "      <td>1.807071</td>\n",
       "      <td>1.593143</td>\n",
       "      <td>1.317004</td>\n",
       "    </tr>\n",
       "    <tr>\n",
       "      <th>12</th>\n",
       "      <td>1.339198</td>\n",
       "      <td>1.907714</td>\n",
       "      <td>1.339193</td>\n",
       "      <td>1.546818</td>\n",
       "      <td>1.046308</td>\n",
       "    </tr>\n",
       "    <tr>\n",
       "      <th>13</th>\n",
       "      <td>1.031956</td>\n",
       "      <td>1.911518</td>\n",
       "      <td>1.966392</td>\n",
       "      <td>1.046686</td>\n",
       "      <td>1.730009</td>\n",
       "    </tr>\n",
       "    <tr>\n",
       "      <th>14</th>\n",
       "      <td>1.013520</td>\n",
       "      <td>1.941073</td>\n",
       "      <td>1.038913</td>\n",
       "      <td>1.189246</td>\n",
       "      <td>1.450500</td>\n",
       "    </tr>\n",
       "    <tr>\n",
       "      <th>15</th>\n",
       "      <td>1.249768</td>\n",
       "      <td>1.808310</td>\n",
       "      <td>1.953467</td>\n",
       "      <td>1.970586</td>\n",
       "      <td>1.691584</td>\n",
       "    </tr>\n",
       "    <tr>\n",
       "      <th>16</th>\n",
       "      <td>1.371990</td>\n",
       "      <td>1.129264</td>\n",
       "      <td>1.739528</td>\n",
       "      <td>1.665445</td>\n",
       "      <td>1.079098</td>\n",
       "    </tr>\n",
       "    <tr>\n",
       "      <th>17</th>\n",
       "      <td>1.093706</td>\n",
       "      <td>1.463295</td>\n",
       "      <td>1.440917</td>\n",
       "      <td>1.611523</td>\n",
       "      <td>1.282725</td>\n",
       "    </tr>\n",
       "    <tr>\n",
       "      <th>18</th>\n",
       "      <td>1.939459</td>\n",
       "      <td>1.427563</td>\n",
       "      <td>1.120828</td>\n",
       "      <td>1.276260</td>\n",
       "      <td>1.432257</td>\n",
       "    </tr>\n",
       "    <tr>\n",
       "      <th>19</th>\n",
       "      <td>1.563164</td>\n",
       "      <td>1.444931</td>\n",
       "      <td>1.629199</td>\n",
       "      <td>1.484619</td>\n",
       "      <td>1.900194</td>\n",
       "    </tr>\n",
       "  </tbody>\n",
       "</table>\n",
       "</div>"
      ],
      "text/plain": [
       "           a         b         c         d         e\n",
       "0   1.642956  1.394636  1.042322  1.562140  1.632791\n",
       "1   1.186575  1.041244  1.668801  1.647973  1.952510\n",
       "2   1.059028  1.608039  1.034593  1.091219  1.926832\n",
       "3   1.629596  1.814314  1.213648  1.028150  1.972230\n",
       "4   1.035156  1.452007  1.838165  1.928632  1.921933\n",
       "5   1.613195  1.378761  1.922036  1.184216  1.170827\n",
       "6   1.031041  1.507250  1.865725  1.141995  1.526083\n",
       "7   1.645996  1.278442  1.981362  1.854778  1.214966\n",
       "8   1.572771  1.994020  1.342037  1.858157  1.188216\n",
       "9   1.954994  1.251248  1.367341  1.844893  1.407349\n",
       "10  1.694436  1.746185  1.543477  1.769319  1.464571\n",
       "11  1.935824  1.283586  1.807071  1.593143  1.317004\n",
       "12  1.339198  1.907714  1.339193  1.546818  1.046308\n",
       "13  1.031956  1.911518  1.966392  1.046686  1.730009\n",
       "14  1.013520  1.941073  1.038913  1.189246  1.450500\n",
       "15  1.249768  1.808310  1.953467  1.970586  1.691584\n",
       "16  1.371990  1.129264  1.739528  1.665445  1.079098\n",
       "17  1.093706  1.463295  1.440917  1.611523  1.282725\n",
       "18  1.939459  1.427563  1.120828  1.276260  1.432257\n",
       "19  1.563164  1.444931  1.629199  1.484619  1.900194"
      ]
     },
     "execution_count": 24,
     "metadata": {},
     "output_type": "execute_result"
    }
   ],
   "source": [
    "column_names = [\"a\", \"b\", \"c\", \"d\", \"e\"]\n",
    "df = pd.DataFrame(random_matrix, columns=column_names)\n",
    "df"
   ]
  },
  {
   "cell_type": "code",
   "execution_count": 25,
   "metadata": {},
   "outputs": [
    {
     "name": "stdout",
     "output_type": "stream",
     "text": [
      "Column with the highest standard deviation: c\n"
     ]
    }
   ],
   "source": [
    "print(f\"Column with the highest standard deviation: {column_names[df.describe().loc[\"std\"].argmax()]}\")"
   ]
  },
  {
   "cell_type": "code",
   "execution_count": 26,
   "metadata": {},
   "outputs": [
    {
     "name": "stdout",
     "output_type": "stream",
     "text": [
      "Row with the lowest mean: 14\n"
     ]
    }
   ],
   "source": [
    "print(f\"Row with the lowest mean: {df.mean(axis=1).argmin()}\")"
   ]
  },
  {
   "cell_type": "markdown",
   "metadata": {},
   "source": [
    "## Problem 11\n",
    "**Add a new column to the dataframe called “f” which is the sum of the columns “a”, “b”, “c”, “d”, “e”. Create another column called “g”. The value in the column “g” should be “LT8” if the value in the column “f” is less than 8 and “GT8” otherwise. Find the number of rows in the dataframe where the value in the column “g” is “LT8”. Find the standard deviation of the column “f” for the rows where the value in the column “g” is “LT8” and “GT8” respectively.**"
   ]
  },
  {
   "cell_type": "code",
   "execution_count": 27,
   "metadata": {},
   "outputs": [],
   "source": [
    "df[\"f\"] = df.sum(axis=1)\n",
    "df[\"g\"] = df[\"f\"].apply(lambda x: \"LT8\" if x < 8 else \"GT8\")"
   ]
  },
  {
   "cell_type": "code",
   "execution_count": 28,
   "metadata": {},
   "outputs": [
    {
     "name": "stdout",
     "output_type": "stream",
     "text": [
      "Standard deviation of f where g is LT8: 0.4436295490197919\n"
     ]
    }
   ],
   "source": [
    "print(f\"Standard deviation of f where g is LT8: {df[df[\"g\"]==\"LT8\"].describe()[\"f\"].loc[\"std\"]}\")"
   ]
  },
  {
   "cell_type": "code",
   "execution_count": 29,
   "metadata": {},
   "outputs": [
    {
     "name": "stdout",
     "output_type": "stream",
     "text": [
      "Standard deviation of f where g is GT8: 0.2804606354279612\n"
     ]
    }
   ],
   "source": [
    "print(f\"Standard deviation of f where g is GT8: {df[df[\"g\"]==\"GT8\"].describe()[\"f\"].loc[\"std\"]}\")"
   ]
  },
  {
   "cell_type": "markdown",
   "metadata": {},
   "source": [
    "## Problem 12\n",
    "**Write a small piece of code to explain broadcasting in numpy.**"
   ]
  },
  {
   "cell_type": "markdown",
   "metadata": {},
   "source": [
    "numpy broadcasting causes the operands to match each others shapes."
   ]
  },
  {
   "cell_type": "code",
   "execution_count": 30,
   "metadata": {},
   "outputs": [
    {
     "name": "stdout",
     "output_type": "stream",
     "text": [
      "(5,)\n",
      "[0 1 2 3 4]\n",
      "\n",
      "(5, 1)\n",
      "[[0]\n",
      " [1]\n",
      " [2]\n",
      " [3]\n",
      " [4]]\n"
     ]
    }
   ],
   "source": [
    "A = np.arange(5)\n",
    "B = np.arange(5).reshape((5,1))\n",
    "print(A.shape)\n",
    "print(A)\n",
    "print()\n",
    "print(B.shape)\n",
    "print(B)"
   ]
  },
  {
   "cell_type": "code",
   "execution_count": 31,
   "metadata": {},
   "outputs": [
    {
     "name": "stdout",
     "output_type": "stream",
     "text": [
      "(5, 5)\n",
      "[[0 1 2 3 4]\n",
      " [1 2 3 4 5]\n",
      " [2 3 4 5 6]\n",
      " [3 4 5 6 7]\n",
      " [4 5 6 7 8]]\n"
     ]
    }
   ],
   "source": [
    "C = A+B\n",
    "print(C.shape)\n",
    "print(C)"
   ]
  },
  {
   "cell_type": "markdown",
   "metadata": {},
   "source": [
    "In the above example, the A array is broadcasted vertically and the array B is broadcasted horizontally to match the 2D shape of (5,5). \\\n",
    "Another example could be:"
   ]
  },
  {
   "cell_type": "code",
   "execution_count": 32,
   "metadata": {},
   "outputs": [
    {
     "name": "stdout",
     "output_type": "stream",
     "text": [
      "(5,)\n",
      "[0 1 2 3 4]\n"
     ]
    }
   ],
   "source": [
    "A = np.arange(5)\n",
    "B = 1\n",
    "print(A.shape)\n",
    "print(A)"
   ]
  },
  {
   "cell_type": "code",
   "execution_count": 33,
   "metadata": {},
   "outputs": [
    {
     "name": "stdout",
     "output_type": "stream",
     "text": [
      "(5,)\n",
      "[1 2 3 4 5]\n"
     ]
    }
   ],
   "source": [
    "C = A + B\n",
    "print(C.shape)\n",
    "print(C)"
   ]
  },
  {
   "cell_type": "markdown",
   "metadata": {},
   "source": [
    "In the above example, B=1 is broadcasted to a shape (5,) array to be added to A."
   ]
  },
  {
   "cell_type": "markdown",
   "metadata": {},
   "source": [
    "## Problem 13\n",
    "**Write a function to compute the argmin of a numpy array. The function should take a numpy array as input and return the index of the minimum element. You can use the np.argmin function to verify your solution.**"
   ]
  },
  {
   "cell_type": "code",
   "execution_count": 34,
   "metadata": {},
   "outputs": [],
   "source": [
    "def argmin(nparr, axis=None, out=None):\n",
    "    # I would just like to point out that I've tried to follow Google's Python style guide and decided to include docstrings, this code is NOT GPT generated. Also I've tried to reach as close as possible to numpy's argmin\n",
    "    \"\"\"\n",
    "    Returns the indices of the minimum values along an axis.\n",
    "\n",
    "    Args:\n",
    "        a: input array.\n",
    "        axis: Axis along which to operate. If None, the flattened array is used.\n",
    "        out: Array into which the result is placed. Must have the same shape as the expected output.\n",
    "\n",
    "    Returns:\n",
    "        index_array: Array of indices of the minimum values if `axis` is specified and `out` is None.\n",
    "                   Integer index of the minimum value if `axis` is None and `out` is None.\n",
    "                   None if `out` is specified.\n",
    "\n",
    "    Raises:\n",
    "        ValueError: If `axis` is out of bounds or if `out` has the wrong shape.\n",
    "    \"\"\"\n",
    "    nparr_shape = nparr.shape\n",
    "    if axis is None:\n",
    "        if out is not None and out != np.array(0):\n",
    "             raise ValueError(\"out has the wrong shape\")\n",
    "        else:\n",
    "            nparr = np.ndarray.flatten(nparr)\n",
    "            min_idx = 0\n",
    "            min_val = nparr[0]\n",
    "            for i in range(len(nparr)):\n",
    "                if nparr[i] < min_val:\n",
    "                    min_idx = i \n",
    "                    min_val = nparr[i]\n",
    "            if out is not None:\n",
    "                out = min_idx\n",
    "            else:\n",
    "                return min_idx\n",
    "\n",
    "    elif axis == 0:\n",
    "        if nparr_shape[1] != out.shape[0]:\n",
    "            raise ValueError(\"out has the wrong shape\")\n",
    "        else:\n",
    "            for col in range(nparr_shape[1]):\n",
    "                min_idx = 0\n",
    "                min_val = nparr[0, col]\n",
    "                for row in range(nparr_shape[0]):\n",
    "                    if nparr[row, col] < min_val:\n",
    "                        min_idx = row\n",
    "                        min_val = nparr[row, col]\n",
    "                out[col] = min_idx\n",
    "    elif axis == 1:\n",
    "        if nparr_shape[0] != out.shape[0]:\n",
    "            raise ValueError(\"out has the wrong shape\")\n",
    "        else:\n",
    "            for row in range(nparr_shape[0]):\n",
    "                min_idx = 0\n",
    "                min_val = nparr[row, 0]\n",
    "                for col in range(nparr_shape[0]):\n",
    "                    if nparr[row, col] < min_val:\n",
    "                        min_idx = row\n",
    "                        min_val = nparr[row, col]\n",
    "                out[row] = min_idx\n",
    "    else:\n",
    "        raise ValueError(\"axis is out of bounds\")"
   ]
  },
  {
   "cell_type": "code",
   "execution_count": 35,
   "metadata": {},
   "outputs": [
    {
     "name": "stdout",
     "output_type": "stream",
     "text": [
      "[0 1 2 0]\n",
      "0\n"
     ]
    }
   ],
   "source": [
    "# using numpy argmin\n",
    "\n",
    "array1 = np.array([[10, 17, 25, 24], \n",
    "    [15, 11, 22, 30], \n",
    "    [11, 19, 20, 69]])\n",
    "\n",
    "# create an empty array\n",
    "array2= np.array([0, 0, 0, 0])\n",
    "\n",
    "# pass the 'out' argument to store the result in array2\n",
    "np.argmin(array1, axis = 0, out = array2)\n",
    "\n",
    "print(array2)\n",
    "print(np.argmin(array1))"
   ]
  },
  {
   "cell_type": "code",
   "execution_count": 36,
   "metadata": {},
   "outputs": [
    {
     "name": "stdout",
     "output_type": "stream",
     "text": [
      "[0 1 2 0]\n",
      "0\n"
     ]
    }
   ],
   "source": [
    "# using our argmin\n",
    "\n",
    "array1 = np.array([[10, 17, 25, 24], \n",
    "    [15, 11, 22, 30], \n",
    "    [11, 19, 20, 69]])\n",
    "\n",
    "# create an empty array\n",
    "array2= np.array([0, 0, 0, 0])\n",
    "\n",
    "# pass the 'out' argument to store the result in array2\n",
    "argmin(array1, axis = 0, out = array2)\n",
    "\n",
    "print(array2)\n",
    "print(argmin(array1))"
   ]
  },
  {
   "cell_type": "markdown",
   "metadata": {},
   "source": [
    "We get same results!"
   ]
  }
 ],
 "metadata": {
  "kernelspec": {
   "display_name": "Python 3",
   "language": "python",
   "name": "python3"
  },
  "language_info": {
   "codemirror_mode": {
    "name": "ipython",
    "version": 3
   },
   "file_extension": ".py",
   "mimetype": "text/x-python",
   "name": "python",
   "nbconvert_exporter": "python",
   "pygments_lexer": "ipython3",
   "version": "3.12.3"
  }
 },
 "nbformat": 4,
 "nbformat_minor": 2
}
